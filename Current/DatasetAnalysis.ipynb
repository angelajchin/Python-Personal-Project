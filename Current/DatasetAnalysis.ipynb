{
 "cells": [
  {
   "cell_type": "code",
   "execution_count": 10,
   "id": "13837f40",
   "metadata": {},
   "outputs": [],
   "source": [
    "import cv2\n",
    "import mediapipe as mp\n",
    "import pandas as pd\n",
    "import numpy as np\n",
    "import math\n",
    "import os\n",
    "from IPython.display import display\n",
    "import ipywidgets as widgets\n",
    "from pathlib import Path\n",
    "from sklearn.ensemble import RandomForestClassifier\n",
    "from sklearn.model_selection import train_test_split\n",
    "\n",
    "# Create dataset folder if needed\n",
    "os.makedirs('uploaded_dataset', exist_ok=True)\n"
   ]
  },
  {
   "cell_type": "code",
   "execution_count": 11,
   "id": "84ecf9a3",
   "metadata": {},
   "outputs": [
    {
     "data": {
      "application/vnd.jupyter.widget-view+json": {
       "model_id": "fe4a8fb2777f4e458ee30ac8b3d3af7b",
       "version_major": 2,
       "version_minor": 0
      },
      "text/plain": [
       "FileUpload(value=(), accept='.mp4,.avi,.mov', description='Upload')"
      ]
     },
     "metadata": {},
     "output_type": "display_data"
    }
   ],
   "source": [
    "# Cell 2: Upload widget\n",
    "uploader = widgets.FileUpload(\n",
    "    accept='.mp4,.avi,.mov', \n",
    "    multiple=False\n",
    ")\n",
    "display(uploader)\n"
   ]
  },
  {
   "cell_type": "code",
   "execution_count": 12,
   "id": "f17ae926",
   "metadata": {},
   "outputs": [
    {
     "name": "stdout",
     "output_type": "stream",
     "text": [
      "Saved to: uploaded_dataset/AnteriorDiplegic.mp4\n"
     ]
    }
   ],
   "source": [
    "# Cell 3: Save uploaded video\n",
    "video_path = None\n",
    "\n",
    "if uploader.value:\n",
    "    uploaded_file = uploader.value[0]\n",
    "    video_name = uploaded_file.name\n",
    "    video_path = f\"uploaded_dataset/{video_name}\"\n",
    "    with open(video_path, 'wb') as f:\n",
    "        f.write(uploaded_file.content)\n",
    "    print(f\"Saved to: {video_path}\")"
   ]
  },
  {
   "cell_type": "code",
   "execution_count": 13,
   "id": "a951cc73",
   "metadata": {},
   "outputs": [],
   "source": [
    "# Cell 4: Create Dataset\n",
    "def extract_gait_features(video_path, label=None, output_csv=True):\n",
    "    mp_pose = mp.solutions.pose\n",
    "    pose = mp_pose.Pose(static_image_mode=False, model_complexity=1)\n",
    "    scale_factor = 0.3\n",
    "    frame_skip = 5\n",
    "    max_duration = 10\n",
    "\n",
    "    def resize_image(image):\n",
    "        h, w = int(image.shape[0] * scale_factor), int(image.shape[1] * scale_factor)\n",
    "        return cv2.resize(image, (w, h))\n",
    "\n",
    "    def calculate_angle(a, b, c):\n",
    "        a, b, c = np.array(a), np.array(b), np.array(c)\n",
    "        radians = np.arctan2(c[1]-b[1], c[0]-b[0]) - np.arctan2(a[1]-b[1], a[0]-b[0])\n",
    "        angle = np.abs(radians * 180.0 / np.pi)\n",
    "        return 360 - angle if angle > 180.0 else angle\n",
    "\n",
    "    def get_coords(landmarks, index):\n",
    "        return (landmarks[index].x, landmarks[index].y)\n",
    "\n",
    "    RIGHT_HIP, RIGHT_KNEE, RIGHT_ANKLE = 24, 26, 28\n",
    "    LEFT_HIP, LEFT_KNEE, LEFT_ANKLE = 23, 25, 27\n",
    "\n",
    "    cap = cv2.VideoCapture(video_path)\n",
    "    prev_angle, prev_angular_velocity, prev_time = None, None, 0\n",
    "    data_list = []\n",
    "    frame_idx = 0\n",
    "\n",
    "    while cap.isOpened():\n",
    "        ret, frame = cap.read()\n",
    "        if not ret:\n",
    "            break\n",
    "\n",
    "        frame_idx += 1\n",
    "        if frame_idx % frame_skip != 0:\n",
    "            continue\n",
    "\n",
    "        current_time = cap.get(cv2.CAP_PROP_POS_MSEC) / 1000\n",
    "        if current_time > max_duration:\n",
    "            break\n",
    "\n",
    "        frame = resize_image(frame)\n",
    "        results = pose.process(cv2.cvtColor(frame, cv2.COLOR_BGR2RGB))\n",
    "\n",
    "        if results.pose_landmarks:\n",
    "            lm = results.pose_landmarks.landmark\n",
    "            rh, rk, ra = get_coords(lm, RIGHT_HIP), get_coords(lm, RIGHT_KNEE), get_coords(lm, RIGHT_ANKLE)\n",
    "            lh, lk, la = get_coords(lm, LEFT_HIP), get_coords(lm, LEFT_KNEE), get_coords(lm, LEFT_ANKLE)\n",
    "\n",
    "            rk_angle = calculate_angle(rh, rk, ra)\n",
    "            lk_angle = calculate_angle(lh, lk, la)\n",
    "\n",
    "            v1 = (rk[0] - ra[0], rk[1] - ra[1])\n",
    "            v2 = (rh[0] - ra[0], rh[1] - ra[1])\n",
    "            dot = v1[0]*v2[0] + v1[1]*v2[1]\n",
    "            mag1 = math.sqrt(v1[0]**2 + v1[1]**2)\n",
    "            mag2 = math.sqrt(v2[0]**2 + v2[1]**2)\n",
    "            angle_rad = math.acos(dot / (mag1 * mag2 + 1e-6))\n",
    "            angle_deg = math.degrees(angle_rad)\n",
    "\n",
    "            time_diff = current_time - prev_time\n",
    "            angular_velocity = (angle_deg - prev_angle) / time_diff if prev_angle is not None and time_diff > 0 else None\n",
    "            linear_acceleration = (angular_velocity - prev_angular_velocity) if prev_angular_velocity is not None and angular_velocity is not None else None\n",
    "\n",
    "            # Skip this frame if any values are None\n",
    "            if None in [rk_angle, lk_angle, angular_velocity, linear_acceleration]:\n",
    "                continue\n",
    "\n",
    "            prev_angle = angle_deg\n",
    "            prev_angular_velocity = angular_velocity\n",
    "            prev_time = current_time\n",
    "\n",
    "            data_list.append({\n",
    "                'time': current_time,\n",
    "                'right_knee_angle': rk_angle,\n",
    "                'left_knee_angle': lk_angle,\n",
    "                'angular_velocity': angular_velocity,\n",
    "                'linear_acceleration': linear_acceleration,\n",
    "                'label': label\n",
    "            })\n",
    "\n",
    "    cap.release()\n",
    "    pose.close()\n",
    "\n",
    "    df = pd.DataFrame(data_list)\n",
    "    if output_csv and not df.empty:\n",
    "        csv_name = Path(video_path).stem + '_gait.csv'\n",
    "        df.to_csv(f'uploaded_dataset/{csv_name}', index=False)\n",
    "        print(f\"Saved: uploaded_dataset/{csv_name}\")\n",
    "    elif df.empty:\n",
    "        print(f\"No valid data extracted from {video_path}\")\n",
    "    return df\n"
   ]
  },
  {
   "cell_type": "code",
   "execution_count": 6,
   "id": "c5db56a0",
   "metadata": {},
   "outputs": [
    {
     "data": {
      "application/vnd.jupyter.widget-view+json": {
       "model_id": "d642c2fffdec41489887f09792938677",
       "version_major": 2,
       "version_minor": 0
      },
      "text/plain": [
       "Dropdown(description='Label this video:', options=(('Normal', 0), ('Abnormal', 1)), style=DescriptionStyle(des…"
      ]
     },
     "metadata": {},
     "output_type": "display_data"
    },
    {
     "data": {
      "application/vnd.jupyter.widget-view+json": {
       "model_id": "ab6c8ad14c7040e9a58177b008b9f5b2",
       "version_major": 2,
       "version_minor": 0
      },
      "text/plain": [
       "Button(description='Save & Extract Features', style=ButtonStyle())"
      ]
     },
     "metadata": {},
     "output_type": "display_data"
    },
    {
     "data": {
      "text/html": [
       "<div>\n",
       "<style scoped>\n",
       "    .dataframe tbody tr th:only-of-type {\n",
       "        vertical-align: middle;\n",
       "    }\n",
       "\n",
       "    .dataframe tbody tr th {\n",
       "        vertical-align: top;\n",
       "    }\n",
       "\n",
       "    .dataframe thead th {\n",
       "        text-align: right;\n",
       "    }\n",
       "</style>\n",
       "<table border=\"1\" class=\"dataframe\">\n",
       "  <thead>\n",
       "    <tr style=\"text-align: right;\">\n",
       "      <th></th>\n",
       "    </tr>\n",
       "  </thead>\n",
       "  <tbody>\n",
       "  </tbody>\n",
       "</table>\n",
       "</div>"
      ],
      "text/plain": [
       "Empty DataFrame\n",
       "Columns: []\n",
       "Index: []"
      ]
     },
     "metadata": {},
     "output_type": "display_data"
    }
   ],
   "source": [
    "# Labeling for model training\n",
    "label_selector = widgets.Dropdown(\n",
    "    options=[('Normal', 0), ('Abnormal', 1)],\n",
    "    description='Label this video:',\n",
    "    style={'description_width': 'initial'}\n",
    ")\n",
    "display(label_selector)\n",
    "\n",
    "save_button = widgets.Button(description=\"Save & Extract Features\")\n",
    "\n",
    "def on_save_button_clicked(b):\n",
    "    if not uploader.value:\n",
    "        print(\"Please upload a video first.\")\n",
    "        return\n",
    "    # Save uploaded video\n",
    "    uploaded_file = uploader.value[0]\n",
    "    video_name = uploaded_file.name\n",
    "    video_path = f\"uploaded_dataset/{video_name}\"\n",
    "    with open(video_path, 'wb') as f:\n",
    "        f.write(uploaded_file.content)\n",
    "    print(f\"Saved video as: {video_path}\")\n",
    "    \n",
    "    # Extract features with selected label\n",
    "    label = label_selector.value\n",
    "    df = extract_gait_features(video_path, label=label)\n",
    "    display(df.head())\n",
    "    \n",
    "    print(\"Video labeled as:\", \"Normal\" if label == 0 else \"Abnormal\")\n",
    "\n",
    "save_button.on_click(on_save_button_clicked)\n",
    "display(save_button)"
   ]
  },
  {
   "cell_type": "code",
   "execution_count": 14,
   "id": "f1a27bd8",
   "metadata": {},
   "outputs": [
    {
     "name": "stdout",
     "output_type": "stream",
     "text": [
      "Prediction for Parkinsonian Gait (Dr. Yehia Mishriki)_gait.csv: Abnormal\n"
     ]
    },
    {
     "name": "stderr",
     "output_type": "stream",
     "text": [
      "C:\\Users\\Sandra\\AppData\\Local\\Packages\\PythonSoftwareFoundation.Python.3.12_qbz5n2kfra8p0\\LocalCache\\local-packages\\Python312\\site-packages\\sklearn\\base.py:493: UserWarning: X does not have valid feature names, but RandomForestClassifier was fitted with feature names\n",
      "  warnings.warn(\n"
     ]
    }
   ],
   "source": [
    "# Cell 5: Prediction\n",
    "required_columns = {'right_knee_angle', 'left_knee_angle', 'angular_velocity', 'linear_acceleration', 'label'}\n",
    "\n",
    "all_csvs = list(Path(\"uploaded_dataset\").glob(\"*_gait.csv\"))\n",
    "\n",
    "valid_csvs = []\n",
    "for csv_file in all_csvs:\n",
    "    df = pd.read_csv(csv_file).dropna()\n",
    "    if not df.empty and required_columns.issubset(df.columns):\n",
    "        valid_csvs.append(csv_file)\n",
    "\n",
    "if valid_csvs:\n",
    "    combined_df = pd.concat([pd.read_csv(f).dropna() for f in valid_csvs], ignore_index=True)\n",
    "    X = combined_df[['right_knee_angle', 'left_knee_angle', 'angular_velocity', 'linear_acceleration']]\n",
    "    y = combined_df['label']\n",
    "\n",
    "    if not X.empty and not y.empty:\n",
    "        X_train, X_test, y_train, y_test = train_test_split(X, y, test_size=0.2, random_state=42)\n",
    "\n",
    "        model = RandomForestClassifier(n_estimators=100, random_state=42)\n",
    "        model.fit(X_train, y_train)\n",
    "\n",
    "        most_recent_csv = max(all_csvs, key=os.path.getmtime)\n",
    "        df_recent = pd.read_csv(most_recent_csv).dropna()\n",
    "\n",
    "        if all(col in df_recent.columns for col in X.columns) and not df_recent.empty:\n",
    "            input_features = df_recent[X.columns].mean().values.reshape(1, -1)\n",
    "            prediction = model.predict(input_features)\n",
    "            print(f\"Prediction for {most_recent_csv.name}: {'Normal' if prediction[0] == 0 else 'Abnormal'}\")\n",
    "        else:\n",
    "            print(f\"Most recent file {most_recent_csv.name} lacks required features or is empty.\")\n",
    "    else:\n",
    "        print(\"Insufficient valid data to train model.\")\n",
    "else:\n",
    "    print(\"No valid CSV datasets with required features found.\")\n"
   ]
  }
 ],
 "metadata": {
  "kernelspec": {
   "display_name": "Python 3",
   "language": "python",
   "name": "python3"
  },
  "language_info": {
   "codemirror_mode": {
    "name": "ipython",
    "version": 3
   },
   "file_extension": ".py",
   "mimetype": "text/x-python",
   "name": "python",
   "nbconvert_exporter": "python",
   "pygments_lexer": "ipython3",
   "version": "3.12.10"
  }
 },
 "nbformat": 4,
 "nbformat_minor": 5
}
