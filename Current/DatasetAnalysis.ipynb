{
 "cells": [
  {
   "cell_type": "code",
   "execution_count": 1,
   "id": "13837f40",
   "metadata": {},
   "outputs": [],
   "source": [
    "# Cell 1: Imports\n",
    "import cv2\n",
    "import mediapipe as mp\n",
    "import pandas as pd\n",
    "import numpy as np\n",
    "import math\n",
    "import os\n",
    "from IPython.display import display\n",
    "import ipywidgets as widgets\n",
    "from pathlib import Path\n",
    "\n",
    "\n",
    "# Create directory for datasets\n",
    "os.makedirs('uploaded_dataset', exist_ok=True)"
   ]
  },
  {
   "cell_type": "code",
   "execution_count": 2,
   "id": "84ecf9a3",
   "metadata": {},
   "outputs": [
    {
     "data": {
      "application/vnd.jupyter.widget-view+json": {
       "model_id": "670c45263c274d3cbe8599bf8e0b4f74",
       "version_major": 2,
       "version_minor": 0
      },
      "text/plain": [
       "FileUpload(value=(), accept='.mp4,.avi,.mov', description='Upload')"
      ]
     },
     "metadata": {},
     "output_type": "display_data"
    },
    {
     "data": {
      "application/vnd.jupyter.widget-view+json": {
       "model_id": "c969dea81b0047d7976db4f248d21d36",
       "version_major": 2,
       "version_minor": 0
      },
      "text/plain": [
       "Dropdown(description='Gait Type:', options=(('Normal', 0), ('Abnormal', 1)), style=DescriptionStyle(descriptio…"
      ]
     },
     "metadata": {},
     "output_type": "display_data"
    }
   ],
   "source": [
    "# Cell 2: Upload widget\n",
    "uploader = widgets.FileUpload(\n",
    "    accept='.mp4,.avi,.mov', \n",
    "    multiple=False\n",
    ")\n",
    "display(uploader)\n",
    "\n",
    "import ipywidgets as widgets\n",
    "from IPython.display import display\n",
    "\n",
    "label_selector = widgets.Dropdown(\n",
    "    options=[('Normal', 0), ('Abnormal', 1)],\n",
    "    description='Gait Type:',\n",
    "    style={'description_width': 'initial'}\n",
    ")\n",
    "\n",
    "display(label_selector)\n"
   ]
  },
  {
   "cell_type": "code",
   "execution_count": 3,
   "id": "f17ae926",
   "metadata": {},
   "outputs": [
    {
     "name": "stdout",
     "output_type": "stream",
     "text": [
      "Saved to: uploaded_dataset/AnteriorWalkReg.mp4\n"
     ]
    }
   ],
   "source": [
    "# Cell 3: Save uploaded video\n",
    "video_path = None\n",
    "\n",
    "if uploader.value:\n",
    "    uploaded_file = uploader.value[0]\n",
    "    video_name = uploaded_file.name\n",
    "    video_path = f\"uploaded_dataset/{video_name}\"\n",
    "    with open(video_path, 'wb') as f:\n",
    "        f.write(uploaded_file.content)\n",
    "    print(f\"Saved to: {video_path}\")"
   ]
  },
  {
   "cell_type": "code",
   "execution_count": 4,
   "id": "a951cc73",
   "metadata": {},
   "outputs": [],
   "source": [
    "# Cell 4: Feature extraction function\n",
    "def extract_gait_features(video_path, label=None):\n",
    "    mp_pose = mp.solutions.pose\n",
    "    pose = mp_pose.Pose(static_image_mode=False, model_complexity=1, enable_segmentation=False)\n",
    "    scale_factor = 0.5\n",
    "\n",
    "    def resize_image(image, scale_factor):\n",
    "        new_width = int(image.shape[1] * scale_factor)\n",
    "        new_height = int(image.shape[0] * scale_factor)\n",
    "        return cv2.resize(image, (new_width, new_height))\n",
    "\n",
    "    def calculate_angle(a, b, c):\n",
    "        a, b, c = np.array(a), np.array(b), np.array(c)\n",
    "        radians = np.arctan2(c[1]-b[1], c[0]-b[0]) - np.arctan2(a[1]-b[1], a[0]-b[0])\n",
    "        angle = np.abs(radians*180.0/np.pi)\n",
    "        return 360 - angle if angle > 180.0 else angle\n",
    "\n",
    "    def get_coords(landmarks, index):\n",
    "        return (landmarks[index].x, landmarks[index].y)\n",
    "\n",
    "    # MediaPipe keypoint indices\n",
    "    RIGHT_HIP, RIGHT_KNEE, RIGHT_ANKLE = 24, 26, 28\n",
    "    LEFT_HIP, LEFT_KNEE, LEFT_ANKLE = 23, 25, 27\n",
    "\n",
    "    cap = cv2.VideoCapture(video_path)\n",
    "    prev_angle, prev_angular_velocity, prev_time = None, None, 0\n",
    "    data_list = []\n",
    "\n",
    "    while cap.isOpened():\n",
    "        ret, frame = cap.read()\n",
    "        if not ret:\n",
    "            break\n",
    "        frame = resize_image(frame, scale_factor)\n",
    "        current_time = cap.get(cv2.CAP_PROP_POS_MSEC) / 1000\n",
    "        image_rgb = cv2.cvtColor(frame, cv2.COLOR_BGR2RGB)\n",
    "        results = pose.process(image_rgb)\n",
    "\n",
    "        if results.pose_landmarks:\n",
    "            lm = results.pose_landmarks.landmark\n",
    "            rh, rk, ra = get_coords(lm, RIGHT_HIP), get_coords(lm, RIGHT_KNEE), get_coords(lm, RIGHT_ANKLE)\n",
    "            lh, lk, la = get_coords(lm, LEFT_HIP), get_coords(lm, LEFT_KNEE), get_coords(lm, LEFT_ANKLE)\n",
    "\n",
    "            rk_angle = calculate_angle(rh, rk, ra)\n",
    "            lk_angle = calculate_angle(lh, lk, la)\n",
    "\n",
    "            v1 = (rk[0] - ra[0], rk[1] - ra[1])\n",
    "            v2 = (rh[0] - ra[0], rh[1] - ra[1])\n",
    "            dot = v1[0]*v2[0] + v1[1]*v2[1]\n",
    "            mag1 = math.sqrt(v1[0]**2 + v1[1]**2)\n",
    "            mag2 = math.sqrt(v2[0]**2 + v2[1]**2)\n",
    "            angle_rad = math.acos(dot / (mag1 * mag2 + 1e-6))\n",
    "            angle_deg = math.degrees(angle_rad)\n",
    "\n",
    "            time_diff = current_time - prev_time\n",
    "            angular_velocity = None\n",
    "            if prev_angle is not None and time_diff > 0:\n",
    "                angular_velocity = (angle_deg - prev_angle) / time_diff\n",
    "\n",
    "            linear_acceleration = None\n",
    "            if prev_angular_velocity is not None and angular_velocity is not None:\n",
    "                linear_acceleration = (angular_velocity - prev_angular_velocity)\n",
    "\n",
    "            prev_angle = angle_deg\n",
    "            prev_angular_velocity = angular_velocity\n",
    "            prev_time = current_time\n",
    "\n",
    "            data_list.append({\n",
    "                'time': current_time,\n",
    "                'right_knee_angle': rk_angle,\n",
    "                'left_knee_angle': lk_angle,\n",
    "                'angular_velocity': angular_velocity,\n",
    "                'linear_acceleration': linear_acceleration,\n",
    "                'label': label  # 0 for normal, 1 for abnormal\n",
    "            })\n",
    "\n",
    "    cap.release()\n",
    "    pose.close()\n",
    "\n",
    "    df = extract_gait_features(video_path, label=label_selector.value)\n",
    "    csv_name = Path(video_path).stem + '_gait.csv'\n",
    "    if output_csv:\n",
    "        df.to_csv(f'uploaded_dataset/{csv_name}', index=False)\n",
    "        print(f\"Saved: uploaded_dataset/{csv_name}\")\n",
    "    return df\n"
   ]
  },
  {
   "cell_type": "code",
   "execution_count": null,
   "id": "7d08cfc8",
   "metadata": {},
   "outputs": [
    {
     "name": "stderr",
     "output_type": "stream",
     "text": [
      "C:\\Users\\Sandra\\AppData\\Local\\Packages\\PythonSoftwareFoundation.Python.3.12_qbz5n2kfra8p0\\LocalCache\\local-packages\\Python312\\site-packages\\google\\protobuf\\symbol_database.py:55: UserWarning: SymbolDatabase.GetPrototype() is deprecated. Please use message_factory.GetMessageClass() instead. SymbolDatabase.GetPrototype() will be removed soon.\n",
      "  warnings.warn('SymbolDatabase.GetPrototype() is deprecated. Please '\n"
     ]
    }
   ],
   "source": [
    "# Cell 5: Run feature extraction\n",
    "if video_path:\n",
    "    df = extract_gait_features(video_path)\n",
    "    display(df.head())\n"
   ]
  },
  {
   "cell_type": "code",
   "execution_count": null,
   "id": "f1a27bd8",
   "metadata": {},
   "outputs": [],
   "source": [
    "# Cell 6: Prediction\n",
    "features = df[['right_knee_angle', 'left_knee_angle', 'angular_velocity', 'linear_acceleration']].mean().values.reshape(1, -1)\n",
    "features_scaled = scaler.transform(features)\n",
    "prediction = clf.predict(features_scaled)\n",
    "print(\"Prediction:\", \"Normal\" if prediction[0] == 0 else \"Abnormal\")\n"
   ]
  }
 ],
 "metadata": {
  "kernelspec": {
   "display_name": "Python 3",
   "language": "python",
   "name": "python3"
  },
  "language_info": {
   "codemirror_mode": {
    "name": "ipython",
    "version": 3
   },
   "file_extension": ".py",
   "mimetype": "text/x-python",
   "name": "python",
   "nbconvert_exporter": "python",
   "pygments_lexer": "ipython3",
   "version": "3.12.10"
  }
 },
 "nbformat": 4,
 "nbformat_minor": 5
}
